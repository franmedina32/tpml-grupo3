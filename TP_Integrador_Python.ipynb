{
  "cells": [
    {
      "attachments": {},
      "cell_type": "markdown",
      "metadata": {
        "id": "UShQ7MbxF39r"
      },
      "source": [
        "<img src=\"https://raw.githubusercontent.com/ITBA-Python/Certificacion-Profesional-Python/main/assets/clase2/Headers%20c%C3%A1talogo_Mesa%20de%20trabajo%201%20copia%2044.jpg\" width=\"800\">\n",
        "\n",
        "\n",
        "\n",
        "# Certificación Avanzada en Deep Learning\n",
        "# Introducción a Python\n",
        "# TP Integrador\n",
        "\n",
        "El objetivo del trabajo es integrar los conocimientos vistos en las primeras clases y dejar preparada una base para realizar algunos trabajos durante el curso de Probabilidad, Estadística y Álgebra en Python.  \n",
        "\n",
        "\n",
        "\n",
        "\n",
        "<img src=\"https://raw.githubusercontent.com/ITBA-Python/Certificacion-Profesional-Python/main/assets/clase2/LOGOTIPO_sin_fondo_positivo_sin_bajada.png\" width=\"400\">\n",
        "\n"
      ]
    },
    {
      "attachments": {},
      "cell_type": "markdown",
      "metadata": {
        "id": "M0Zy884UqvcE"
      },
      "source": [
        "# Objetivo del TP Integrador\n",
        "\n",
        "Se deberá armar un sistema sencillo de Alta/Baja de usuarios y trabajadores de un sistema ficticio de streaming de películas.   \n",
        "\n",
        "Se deberán proveer las siguientes funcionalidades: \n",
        "\n",
        "- Alta/Baja de Usuario\n",
        "- Alta/Baja de Trabajador\n",
        "- Alta/Baja de Películas\n",
        "- Alta/Baja de Calificaciones\n",
        "- Estadísticas por Usuario/Película: Calificación promedio de usuario, Calificación promedio por película.  \n",
        "\n",
        "# Datos\n",
        "\n",
        "Los datos serán almacenados en memoria en 5 Data Frames distintos, los cuales contendrán la información vinculada a:\n",
        "\n",
        "- Personas: Id, Fecha de Nacimiento, Género, Código Postal.\n",
        "- Usuarios (Personas): Id(Personas), Ocupación, Fecha de Alta.\n",
        "- Trabajadores (Personas): Id(Personas), Fecha de Alta, Puesto, Categoría, Horario de Trabajo.  \n",
        "- Películas: Nombre, Año, Género(s), id.  \n",
        "- Scores: Usuario (Id), Película (Id), Puntuación, Timestamp\n",
        "\n",
        "Se proveen 5 archivos csv con información para inicializar cada uno de estos 5 DataFrames. \n",
        "\n",
        "Los datos fueron generados a partir del dataset provisto en https://grouplens.org/datasets/movielens/100k/ y procesados por la cátedra para mayor facilidad de los alumnos.\n",
        "\n",
        "# Implementación\n",
        "\n",
        "Para dar de alta alguna de las entidades mencionadas anteriormente (Persona, Usuario, Trabajador, Película, Score) se deberá instanciar un objeto vinculado a una clase correspondiente (Persona, Usuario, Trabajador, Película, Score) con la información pertinente la entidad. El siguiente es un código de referencia para definir la clase \"Pelicula\" y a partir del mismo dar de alta o borrar películas:\n"
      ]
    },
    {
      "cell_type": "code",
      "execution_count": null,
      "metadata": {
        "id": "f71vyWT4wcv3"
      },
      "outputs": [],
      "source": [
        "\"\"\"\"\n",
        "class Pelicula:\n",
        "    def __init__(self, nombre, anio, generos, id = None):\n",
        "        self.nombre = nombre\n",
        "        self.anio = anio\n",
        "        self.generos = generos\n",
        "        self.id = id\n",
        "    def __repr__(self):\n",
        "        # Este método debe imprimir la información de esta película.\n",
        "    def write_df(self, df_mov):\n",
        "        # Este método recibe el dataframe de películas y agrega la película\n",
        "        # Si el id es None, toma el id más alto del DF y le suma uno. Si el \n",
        "        # id ya existe, no la agrega y devuelve un error.\n",
        "    def create_df_from_csv(cls, filename):\n",
        "        # Este class method recibe el nombre de un archivo csv, valida su \n",
        "        # estructura y devuelve un DataFrame con la información cargada del\n",
        "        # archivo 'filename'.\n",
        "        ###\n",
        "        #Código\n",
        "        ###\n",
        "        return df_mov\n",
        "    def get_from_df(cls, df_mov, id=None, nombre = None, anios = None, generos = None):\n",
        "        # Este class method devuelve una lista de objetos 'Pelicula' buscando por:\n",
        "        # id: id\n",
        "        # nombre: nombre de la película\n",
        "        # anios: [desde_año, hasta_año]\n",
        "        # generos: [generos]\n",
        "        return lista_peliculas\n",
        "     def get_stats(cls,df_mov, anios=None, generos=None):\n",
        "        # Este class method imprime una serie de estadísticas calculadas sobre\n",
        "        # los resultados de una consulta al DataFrame df_mov. \n",
        "        # Las estadísticas se realizarán sobre las filas que cumplan con los requisitos de:\n",
        "        # anios: [desde_año, hasta_año]\n",
        "        # generos: [generos]\n",
        "        # Las estadísticas son:\n",
        "        # - Datos película más vieja\n",
        "        # - Datos película más nueva\n",
        "        # - Bar plots con la cantidad de películas por año/género.\n",
        "    def remove_from_df(self, df_mov):\n",
        "        # Borra del DataFrame el objeto contenido en esta clase.\n",
        "        # Para realizar el borrado todas las propiedades del objeto deben coincidir\n",
        "        # con la entrada en el DF. Caso contrario imprime un error.\n",
        "\"\"\""
      ]
    },
    {
      "attachments": {},
      "cell_type": "markdown",
      "metadata": {
        "id": "Ss95Haw66zJG"
      },
      "source": [
        "## Ej DataFrame: Peliculas\n",
        "\n",
        "A continuación se muestra la estructura del DataFrame de Películas."
      ]
    },
    {
      "cell_type": "code",
      "execution_count": 5,
      "metadata": {
        "id": "G0AZHi8B6yYa"
      },
      "outputs": [],
      "source": [
        "import pandas as pd"
      ]
    },
    {
      "cell_type": "code",
      "execution_count": 6,
      "metadata": {
        "id": "VE9J_a3Y69HC"
      },
      "outputs": [],
      "source": [
        "df = pd.read_csv(\"personas.csv\")"
      ]
    },
    {
      "cell_type": "code",
      "execution_count": 7,
      "metadata": {
        "colab": {
          "base_uri": "https://localhost:8080/",
          "height": 438
        },
        "id": "wXxMa2YwLSc5",
        "outputId": "249556be-446c-441d-e112-e866253fa677"
      },
      "outputs": [
        {
          "data": {
            "text/html": [
              "<div>\n",
              "<style scoped>\n",
              "    .dataframe tbody tr th:only-of-type {\n",
              "        vertical-align: middle;\n",
              "    }\n",
              "\n",
              "    .dataframe tbody tr th {\n",
              "        vertical-align: top;\n",
              "    }\n",
              "\n",
              "    .dataframe thead th {\n",
              "        text-align: right;\n",
              "    }\n",
              "</style>\n",
              "<table border=\"1\" class=\"dataframe\">\n",
              "  <thead>\n",
              "    <tr style=\"text-align: right;\">\n",
              "      <th></th>\n",
              "      <th>id</th>\n",
              "      <th>Full Name</th>\n",
              "      <th>year of birth</th>\n",
              "      <th>Gender</th>\n",
              "      <th>Zip Code</th>\n",
              "    </tr>\n",
              "  </thead>\n",
              "  <tbody>\n",
              "    <tr>\n",
              "      <th>0</th>\n",
              "      <td>1</td>\n",
              "      <td>Robert Stanley</td>\n",
              "      <td>1974</td>\n",
              "      <td>M</td>\n",
              "      <td>85711</td>\n",
              "    </tr>\n",
              "    <tr>\n",
              "      <th>1</th>\n",
              "      <td>2</td>\n",
              "      <td>Heather Bossey</td>\n",
              "      <td>1945</td>\n",
              "      <td>F</td>\n",
              "      <td>94043</td>\n",
              "    </tr>\n",
              "    <tr>\n",
              "      <th>2</th>\n",
              "      <td>3</td>\n",
              "      <td>Don Davis</td>\n",
              "      <td>1975</td>\n",
              "      <td>M</td>\n",
              "      <td>32067</td>\n",
              "    </tr>\n",
              "    <tr>\n",
              "      <th>3</th>\n",
              "      <td>4</td>\n",
              "      <td>Daniel Mccauley</td>\n",
              "      <td>1974</td>\n",
              "      <td>M</td>\n",
              "      <td>43537</td>\n",
              "    </tr>\n",
              "    <tr>\n",
              "      <th>4</th>\n",
              "      <td>5</td>\n",
              "      <td>Janice Mccullough</td>\n",
              "      <td>1965</td>\n",
              "      <td>F</td>\n",
              "      <td>15213</td>\n",
              "    </tr>\n",
              "  </tbody>\n",
              "</table>\n",
              "</div>"
            ],
            "text/plain": [
              "   id          Full Name  year of birth Gender Zip Code\n",
              "0   1     Robert Stanley           1974      M    85711\n",
              "1   2     Heather Bossey           1945      F    94043\n",
              "2   3          Don Davis           1975      M    32067\n",
              "3   4    Daniel Mccauley           1974      M    43537\n",
              "4   5  Janice Mccullough           1965      F    15213"
            ]
          },
          "execution_count": 7,
          "metadata": {},
          "output_type": "execute_result"
        }
      ],
      "source": [
        "df.head()"
      ]
    },
    {
      "cell_type": "code",
      "execution_count": 8,
      "metadata": {},
      "outputs": [
        {
          "ename": "ModuleNotFoundError",
          "evalue": "No module named 'persona'",
          "output_type": "error",
          "traceback": [
            "\u001b[0;31m---------------------------------------------------------------------------\u001b[0m",
            "\u001b[0;31mModuleNotFoundError\u001b[0m                       Traceback (most recent call last)",
            "Cell \u001b[0;32mIn[8], line 2\u001b[0m\n\u001b[1;32m      1\u001b[0m \u001b[39mfrom\u001b[39;00m \u001b[39mclases\u001b[39;00m\u001b[39m.\u001b[39;00m\u001b[39mpersona\u001b[39;00m \u001b[39mimport\u001b[39;00m Persona\n\u001b[0;32m----> 2\u001b[0m \u001b[39mfrom\u001b[39;00m \u001b[39mclases\u001b[39;00m\u001b[39m.\u001b[39;00m\u001b[39mtrabajador\u001b[39;00m \u001b[39mimport\u001b[39;00m Trabajador\n\u001b[1;32m      3\u001b[0m \u001b[39mfrom\u001b[39;00m \u001b[39mclases\u001b[39;00m\u001b[39m.\u001b[39;00m\u001b[39musuario\u001b[39;00m \u001b[39mimport\u001b[39;00m Usuario\n\u001b[1;32m      5\u001b[0m francisco \u001b[39m=\u001b[39m Usuario(\u001b[39m\"\u001b[39m\u001b[39mfrancisco\u001b[39m\u001b[39m\"\u001b[39m, \u001b[39m\"\u001b[39m\u001b[39m2001\u001b[39m\u001b[39m\"\u001b[39m, \u001b[39m\"\u001b[39m\u001b[39mM\u001b[39m\u001b[39m\"\u001b[39m, \u001b[39m\"\u001b[39m\u001b[39m7000\u001b[39m\u001b[39m\"\u001b[39m, \u001b[39m\"\u001b[39m\u001b[39mprogrammer\u001b[39m\u001b[39m\"\u001b[39m, \u001b[39m\"\u001b[39m\u001b[39m2023-06-22 23:20:19\u001b[39m\u001b[39m\"\u001b[39m)\n",
            "File \u001b[0;32m~/Downloads/TP Integrador de Python Grupo 3/clases/trabajador.py:1\u001b[0m\n\u001b[0;32m----> 1\u001b[0m \u001b[39mfrom\u001b[39;00m \u001b[39mpersona\u001b[39;00m \u001b[39mimport\u001b[39;00m Persona\n\u001b[1;32m      2\u001b[0m \u001b[39mimport\u001b[39;00m \u001b[39mpandas\u001b[39;00m \u001b[39mas\u001b[39;00m \u001b[39mpd\u001b[39;00m\n\u001b[1;32m      3\u001b[0m \u001b[39mimport\u001b[39;00m \u001b[39mnumpy\u001b[39;00m \u001b[39mas\u001b[39;00m \u001b[39mnp\u001b[39;00m\n",
            "\u001b[0;31mModuleNotFoundError\u001b[0m: No module named 'persona'"
          ]
        }
      ],
      "source": [
        "from clases.persona import Persona\n",
        "from clases.trabajador import Trabajador\n",
        "from clases.usuario import Usuario\n",
        "\n",
        "francisco = Usuario(\"francisco\", \"2001\", \"M\", \"7000\", \"programmer\", \"2023-06-22 23:20:19\")"
      ]
    },
    {
      "attachments": {},
      "cell_type": "markdown",
      "metadata": {
        "id": "yRbIFjP9L2Ht"
      },
      "source": [
        "# Enunciado\n",
        "\n",
        "Los alumnos deberán implementar las 5 clases correspondientes para la gestión de cada uno de los tipos de datos, los cuales residen cada uno en un DataFrame distinto. El sistema está compuesto por estos 5 DataFrames. La gestión consiste en alta/baja de datos y estadísticas para cada tipo de datos (uno por DataFrame). El prototipo de cada clase deberá ser propuesto por los alumnos basándose en el prototipo de la clase 'Pelicula'.\n",
        "\n",
        "Adicionalmente a la implementación de las 5 clases, deberán implementar una función para cargar todo el sistema:\n",
        "\n",
        "~~~\n",
        "def load_all(file_personas, file_trabajadores, file_usuarios, file_peliculas, file_scores):\n",
        "    #Código de Carga\n",
        "    return df_personas, df_trabajadores, df_usuarios, df_peliculas, df_scores\n",
        "~~~ \n",
        "\n",
        "El código de carga debera realizar un chequeo de consistencia entre los DataFrames y eliminar cualquier inconsistencia que se detecte. Por ejemplo un id presente en el DataFrame de usuarios que no está presente en el DataFrame de personas, o un id de película que esté en el DataFrame de Scores, que no esté presente en el DataFrame de películas.  \n",
        "\n",
        "Deberá implementarse además, otra función para salvar todo el sistema (los 5 DataFrames) en 5 archivos:\n",
        "\n",
        "~~~\n",
        "def save_all(df_personas, df_trabajadores, df_usuarios, df_peliculas, df_scores, file_personas=\"personas.csv\", file_trabajadores=\"trabajadores.csv\", file_usuarios=\"usuarios.csv\", file_peliculas=\"peliculas.csv\", file_scores=\"scores.csv\"):\n",
        "    #Código de Salvado\n",
        "    return 0 # O -1 si hubo algún error \n",
        "~~~ \n",
        "\n",
        "Todos los módulos deberán estar en un archivo .py separado (modularizado) conteniendo las implementaciones de las 5 clases y las funciones de carga y salvado."
      ]
    },
    {
      "attachments": {},
      "cell_type": "markdown",
      "metadata": {
        "id": "T_rEHCuLPeOk"
      },
      "source": [
        "## Estadísticas\n",
        "\n",
        "Las estadísticas recomendadas para cada tipo de datos son las siguientes, pueden agregar más si lo desean:\n",
        "\n",
        "- Películas: Película más vieja, película más nueva, Cantidades de películas por año/género. Cantidad de películas totales.\n",
        "- Personas: Cantidad de personas por año de nacimiento y Género. Cantidad total de personas.\n",
        "- Usuarios: Cantidad de usuarios por Ocupación/Año de Nacimiento. Cantidad total de usuarios.\n",
        "- Trabajadores: Cantidad de trabajadores por puesto. Cantidad total de trabajadores.\n",
        "- Scores: Puntuación promedio de usuario(s) por año(de película)/género. Puntuación promedio de películas por género de usuario(sexo)/rango etáreo/Ocupación.\n"
      ]
    },
    {
      "attachments": {},
      "cell_type": "markdown",
      "metadata": {
        "id": "ZBnrferoTi3M"
      },
      "source": [
        "# Entregable\n",
        "\n",
        "El entregable deberá ser un archivo .zip (los alumnos que lo prefieran pueden entregar un link con un repositoriod e github) que contenga:\n",
        "\n",
        "- helper.py: todos los módulos desarrollados para resolver el TP. Los mismos deberán tener comentarios. Los mismos no deberán ser línea por línea sino explicaciones coloquiales de lo que hará cada fragmento de código.  \n",
        "- Demostración.ipynb: Notebook documentando la ejecución de cada uno de los módulos y sus resultados.\n",
        "- Los archivos csv correspondientes a las bases de datos.\n",
        "Opcionalmente se puede mostrar/entregar una notebook llamada 'EDA.ipynb' que contenga un análisis de los datos de cada uno de los archivos csv que se proveen.\n",
        "\n",
        "**La entrega será una exposición de 30 minutos máximo durante una tutoría obligatoria en fecha a convenir.**\n",
        "\n"
      ]
    },
    {
      "cell_type": "code",
      "execution_count": 16,
      "metadata": {
        "id": "ZsA3AAFMLZke"
      },
      "outputs": [],
      "source": [
        "#from main import load_all"
      ]
    },
    {
      "cell_type": "code",
      "execution_count": 2,
      "metadata": {},
      "outputs": [
        {
          "data": {
            "text/html": [
              "<div>\n",
              "<style scoped>\n",
              "    .dataframe tbody tr th:only-of-type {\n",
              "        vertical-align: middle;\n",
              "    }\n",
              "\n",
              "    .dataframe tbody tr th {\n",
              "        vertical-align: top;\n",
              "    }\n",
              "\n",
              "    .dataframe thead th {\n",
              "        text-align: right;\n",
              "    }\n",
              "</style>\n",
              "<table border=\"1\" class=\"dataframe\">\n",
              "  <thead>\n",
              "    <tr style=\"text-align: right;\">\n",
              "      <th></th>\n",
              "      <th>id</th>\n",
              "      <th>Occupation</th>\n",
              "      <th>Active Since</th>\n",
              "    </tr>\n",
              "  </thead>\n",
              "  <tbody>\n",
              "    <tr>\n",
              "      <th>0</th>\n",
              "      <td>1</td>\n",
              "      <td>technician</td>\n",
              "      <td>1997-09-22 21:57:58</td>\n",
              "    </tr>\n",
              "    <tr>\n",
              "      <th>1</th>\n",
              "      <td>2</td>\n",
              "      <td>other</td>\n",
              "      <td>1998-02-27 03:26:00</td>\n",
              "    </tr>\n",
              "    <tr>\n",
              "      <th>2</th>\n",
              "      <td>3</td>\n",
              "      <td>writer</td>\n",
              "      <td>1998-03-07 02:15:39</td>\n",
              "    </tr>\n",
              "    <tr>\n",
              "      <th>3</th>\n",
              "      <td>4</td>\n",
              "      <td>technician</td>\n",
              "      <td>1998-04-08 02:09:34</td>\n",
              "    </tr>\n",
              "    <tr>\n",
              "      <th>4</th>\n",
              "      <td>5</td>\n",
              "      <td>other</td>\n",
              "      <td>1997-09-30 15:57:44</td>\n",
              "    </tr>\n",
              "    <tr>\n",
              "      <th>...</th>\n",
              "      <td>...</td>\n",
              "      <td>...</td>\n",
              "      <td>...</td>\n",
              "    </tr>\n",
              "    <tr>\n",
              "      <th>939</th>\n",
              "      <td>940</td>\n",
              "      <td>administrator</td>\n",
              "      <td>1998-01-14 18:01:38</td>\n",
              "    </tr>\n",
              "    <tr>\n",
              "      <th>940</th>\n",
              "      <td>941</td>\n",
              "      <td>student</td>\n",
              "      <td>1997-09-23 21:01:35</td>\n",
              "    </tr>\n",
              "    <tr>\n",
              "      <th>941</th>\n",
              "      <td>942</td>\n",
              "      <td>librarian</td>\n",
              "      <td>1998-03-30 18:25:55</td>\n",
              "    </tr>\n",
              "    <tr>\n",
              "      <th>942</th>\n",
              "      <td>943</td>\n",
              "      <td>student</td>\n",
              "      <td>1997-09-28 01:25:39</td>\n",
              "    </tr>\n",
              "    <tr>\n",
              "      <th>943</th>\n",
              "      <td>946</td>\n",
              "      <td>programmer</td>\n",
              "      <td>2022-12-18 08:06:24</td>\n",
              "    </tr>\n",
              "  </tbody>\n",
              "</table>\n",
              "<p>944 rows × 3 columns</p>\n",
              "</div>"
            ],
            "text/plain": [
              "      id     Occupation         Active Since\n",
              "0      1     technician  1997-09-22 21:57:58\n",
              "1      2          other  1998-02-27 03:26:00\n",
              "2      3         writer  1998-03-07 02:15:39\n",
              "3      4     technician  1998-04-08 02:09:34\n",
              "4      5          other  1997-09-30 15:57:44\n",
              "..   ...            ...                  ...\n",
              "939  940  administrator  1998-01-14 18:01:38\n",
              "940  941        student  1997-09-23 21:01:35\n",
              "941  942      librarian  1998-03-30 18:25:55\n",
              "942  943        student  1997-09-28 01:25:39\n",
              "943  946     programmer  2022-12-18 08:06:24\n",
              "\n",
              "[944 rows x 3 columns]"
            ]
          },
          "execution_count": 2,
          "metadata": {},
          "output_type": "execute_result"
        }
      ],
      "source": [
        "from main import load_all\n",
        "from main import save_all\n",
        "from clases.trabajador import Trabajador\n",
        "from clases.usuario import Usuario\n",
        "from clases.persona import Persona\n",
        "df_persona, df_trabajador, df_usuario = load_all(file_personas=\"./personas.csv\",file_trabajador=\"./trabajadores.csv\",file_usuario= \"./usuarios.csv\")\n",
        "\n",
        "nuevo_trabajador = Trabajador(\n",
        "    nombre=\"Leonel Messi\",\n",
        "    ano_nacimiento=\"1982\",\n",
        "    genero=\"M\",\n",
        "    zip_code=\"1425\",\n",
        "    fecha_alta=\"2023-06-26\",\n",
        "    puesto=\"CEO\",\n",
        "    categoria=\"A\",\n",
        "    horario_laboral=\"9-5\"\n",
        ")\n",
        "\n",
        "nuevo_usuario = Usuario(\n",
        "    nombre=\"Angel Di Maria\", \n",
        "    ano_nacimiento= \"1982\",\n",
        "    genero= \"M\", \n",
        "    zip_code= \"1004\",\n",
        "    ocupacion= 'programmer',\n",
        "    fecha_alta=\"2022-12-18 08:06:24\"\n",
        ")\n",
        "\n",
        "df_persona, df_trabajador = nuevo_trabajador.write_df(df_trabajador=df_trabajador, df_persona=df_persona)\n",
        "df_persona, df_usuario = nuevo_usuario.write_df(df_usuario=df_usuario , df_persona=df_persona)\n",
        "\n",
        "\n",
        "\n",
        "df_trabajador, df_persona = nuevo_trabajador.remove_from_df(df_trabajador=df_trabajador, df_persona=df_persona)\n",
        "df_usuario, df_persona = nuevo_usuario.remove_from_df(df_usuario=df_usuario, df_persona=df_persona)\n",
        "\n",
        "\n",
        "#strex = nuevo_usuario.see_dataform_from_df(df_user=df_usuario, df_persona=df_persona)\n",
        "\n",
        "df_usuario\n",
        "#df_usuario = df_usuario.drop((df_usuario[df_usuario['id'] == 943].index))\n",
        "#df_trabajador\n",
        "\n",
        "#strex\n",
        "\n",
        "\n",
        "### arregaler get y delete user\n",
        "\n",
        "        \n",
        "\n",
        "\n",
        "\n",
        "\n",
        "\n",
        "#save_all(df_personas=df_persona, df_trabajadores=df_trabajador, df_usuarios=df_usuario, df_peliculas=df_peliculas ,file_personas='./personas.csv', file_trabajadores='./trabajadores.csv',file_usuarios= './usuarios.csv',file_peliculas='./peliculas.csv')\n",
        "\n"
      ]
    }
  ],
  "metadata": {
    "colab": {
      "provenance": []
    },
    "interpreter": {
      "hash": "8a94588eda9d64d9e9a351ab8144e55b1fabf5113b54e67dd26a8c27df0381b3"
    },
    "kernelspec": {
      "display_name": "Python 3.10.4 64-bit",
      "language": "python",
      "name": "python3"
    },
    "language_info": {
      "codemirror_mode": {
        "name": "ipython",
        "version": 3
      },
      "file_extension": ".py",
      "mimetype": "text/x-python",
      "name": "python",
      "nbconvert_exporter": "python",
      "pygments_lexer": "ipython3",
      "version": "3.11.3"
    }
  },
  "nbformat": 4,
  "nbformat_minor": 0
}
